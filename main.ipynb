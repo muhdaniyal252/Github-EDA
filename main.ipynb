{
 "cells": [
  {
   "cell_type": "code",
   "execution_count": 1,
   "metadata": {},
   "outputs": [],
   "source": [
    "import pandas as pd\n",
    "import matplotlib.pyplot as plt"
   ]
  },
  {
   "cell_type": "code",
   "execution_count": 2,
   "metadata": {},
   "outputs": [
    {
     "name": "stderr",
     "output_type": "stream",
     "text": [
      "/tmp/ipykernel_6732/2331540268.py:1: DtypeWarning: Columns (46) have mixed types. Specify dtype option on import or set low_memory=False.\n",
      "  df = pd.read_csv('responses.csv')\n"
     ]
    }
   ],
   "source": [
    "df = pd.read_csv('responses.csv')\n",
    "meta_df = pd.read_csv('metadata.csv')"
   ]
  },
  {
   "cell_type": "code",
   "execution_count": 3,
   "metadata": {},
   "outputs": [
    {
     "data": {
      "text/plain": [
       "(200000, 47)"
      ]
     },
     "execution_count": 3,
     "metadata": {},
     "output_type": "execute_result"
    }
   ],
   "source": [
    "df.shape"
   ]
  },
  {
   "cell_type": "code",
   "execution_count": 4,
   "metadata": {},
   "outputs": [
    {
     "data": {
      "text/plain": [
       "Index(['id', 'node_id', 'name', 'full_name', 'private', 'owner', 'html_url',\n",
       "       'description', 'fork', 'url', 'forks_url', 'keys_url',\n",
       "       'collaborators_url', 'teams_url', 'hooks_url', 'issue_events_url',\n",
       "       'events_url', 'assignees_url', 'branches_url', 'tags_url', 'blobs_url',\n",
       "       'git_tags_url', 'git_refs_url', 'trees_url', 'statuses_url',\n",
       "       'languages_url', 'stargazers_url', 'contributors_url',\n",
       "       'subscribers_url', 'subscription_url', 'commits_url', 'git_commits_url',\n",
       "       'comments_url', 'issue_comment_url', 'contents_url', 'compare_url',\n",
       "       'merges_url', 'archive_url', 'downloads_url', 'issues_url', 'pulls_url',\n",
       "       'milestones_url', 'notifications_url', 'labels_url', 'releases_url',\n",
       "       'deployments_url', 'languages'],\n",
       "      dtype='object')"
      ]
     },
     "execution_count": 4,
     "metadata": {},
     "output_type": "execute_result"
    }
   ],
   "source": [
    "df.columns"
   ]
  },
  {
   "cell_type": "code",
   "execution_count": 5,
   "metadata": {},
   "outputs": [],
   "source": [
    "df = df[['full_name','html_url','languages','fork']]"
   ]
  },
  {
   "cell_type": "code",
   "execution_count": 6,
   "metadata": {},
   "outputs": [
    {
     "data": {
      "text/plain": [
       "(200000, 4)"
      ]
     },
     "execution_count": 6,
     "metadata": {},
     "output_type": "execute_result"
    }
   ],
   "source": [
    "df.shape"
   ]
  },
  {
   "cell_type": "code",
   "execution_count": 7,
   "metadata": {},
   "outputs": [],
   "source": [
    "df.dropna(inplace=True)"
   ]
  },
  {
   "cell_type": "code",
   "execution_count": 8,
   "metadata": {},
   "outputs": [
    {
     "data": {
      "text/plain": [
       "(25001, 4)"
      ]
     },
     "execution_count": 8,
     "metadata": {},
     "output_type": "execute_result"
    }
   ],
   "source": [
    "df.shape"
   ]
  },
  {
   "cell_type": "code",
   "execution_count": 9,
   "metadata": {},
   "outputs": [
    {
     "data": {
      "text/plain": [
       "Index(['branchs', 'forks', 'stars', 'tags', 'url'], dtype='object')"
      ]
     },
     "execution_count": 9,
     "metadata": {},
     "output_type": "execute_result"
    }
   ],
   "source": [
    "meta_df.columns\n"
   ]
  },
  {
   "cell_type": "code",
   "execution_count": 10,
   "metadata": {},
   "outputs": [
    {
     "data": {
      "text/plain": [
       "Index(['full_name', 'html_url', 'languages', 'fork'], dtype='object')"
      ]
     },
     "execution_count": 10,
     "metadata": {},
     "output_type": "execute_result"
    }
   ],
   "source": [
    "df.columns"
   ]
  },
  {
   "cell_type": "code",
   "execution_count": 11,
   "metadata": {},
   "outputs": [],
   "source": [
    "meta_df.rename(columns={'url':'html_url'},inplace=True)"
   ]
  },
  {
   "cell_type": "code",
   "execution_count": 12,
   "metadata": {},
   "outputs": [
    {
     "data": {
      "text/plain": [
       "Index(['branchs', 'forks', 'stars', 'tags', 'html_url'], dtype='object')"
      ]
     },
     "execution_count": 12,
     "metadata": {},
     "output_type": "execute_result"
    }
   ],
   "source": [
    "meta_df.columns\n"
   ]
  },
  {
   "cell_type": "code",
   "execution_count": 13,
   "metadata": {},
   "outputs": [],
   "source": [
    "meta_df.fillna(0,inplace=True)"
   ]
  },
  {
   "cell_type": "code",
   "execution_count": 14,
   "metadata": {},
   "outputs": [
    {
     "data": {
      "text/plain": [
       "branchs     0\n",
       "forks       0\n",
       "stars       0\n",
       "tags        0\n",
       "html_url    0\n",
       "dtype: int64"
      ]
     },
     "execution_count": 14,
     "metadata": {},
     "output_type": "execute_result"
    }
   ],
   "source": [
    "meta_df.isna().sum()"
   ]
  },
  {
   "cell_type": "code",
   "execution_count": 15,
   "metadata": {},
   "outputs": [],
   "source": [
    "_df = pd.merge(df,meta_df,how='outer',on='html_url')"
   ]
  },
  {
   "cell_type": "code",
   "execution_count": 18,
   "metadata": {},
   "outputs": [],
   "source": [
    "_df = _df.dropna().drop_duplicates(subset=['html_url'])"
   ]
  },
  {
   "cell_type": "code",
   "execution_count": 19,
   "metadata": {},
   "outputs": [],
   "source": [
    "_df.to_csv('data.csv',index=False)"
   ]
  },
  {
   "cell_type": "code",
   "execution_count": 20,
   "metadata": {},
   "outputs": [
    {
     "data": {
      "text/plain": [
       "Index(['full_name', 'html_url', 'languages', 'fork', 'branchs', 'forks',\n",
       "       'stars', 'tags'],\n",
       "      dtype='object')"
      ]
     },
     "execution_count": 20,
     "metadata": {},
     "output_type": "execute_result"
    }
   ],
   "source": [
    "_df.columns"
   ]
  },
  {
   "cell_type": "code",
   "execution_count": 21,
   "metadata": {},
   "outputs": [
    {
     "data": {
      "text/html": [
       "<div>\n",
       "<style scoped>\n",
       "    .dataframe tbody tr th:only-of-type {\n",
       "        vertical-align: middle;\n",
       "    }\n",
       "\n",
       "    .dataframe tbody tr th {\n",
       "        vertical-align: top;\n",
       "    }\n",
       "\n",
       "    .dataframe thead th {\n",
       "        text-align: right;\n",
       "    }\n",
       "</style>\n",
       "<table border=\"1\" class=\"dataframe\">\n",
       "  <thead>\n",
       "    <tr style=\"text-align: right;\">\n",
       "      <th></th>\n",
       "      <th>full_name</th>\n",
       "      <th>html_url</th>\n",
       "      <th>languages</th>\n",
       "      <th>fork</th>\n",
       "      <th>branchs</th>\n",
       "      <th>forks</th>\n",
       "      <th>stars</th>\n",
       "      <th>tags</th>\n",
       "    </tr>\n",
       "  </thead>\n",
       "  <tbody>\n",
       "    <tr>\n",
       "      <th>0</th>\n",
       "      <td>mojombo/grit</td>\n",
       "      <td>https://github.com/mojombo/grit</td>\n",
       "      <td>{'Ruby': 219981}</td>\n",
       "      <td>False</td>\n",
       "      <td>3.0</td>\n",
       "      <td>542.0</td>\n",
       "      <td>1955.0</td>\n",
       "      <td>15.0</td>\n",
       "    </tr>\n",
       "    <tr>\n",
       "      <th>1</th>\n",
       "      <td>wycats/merb-core</td>\n",
       "      <td>https://github.com/wycats/merb-core</td>\n",
       "      <td>{'Ruby': 948883, 'JavaScript': 8925}</td>\n",
       "      <td>False</td>\n",
       "      <td>14.0</td>\n",
       "      <td>61.0</td>\n",
       "      <td>435.0</td>\n",
       "      <td>9.0</td>\n",
       "    </tr>\n",
       "    <tr>\n",
       "      <th>651</th>\n",
       "      <td>rubinius/rubinius</td>\n",
       "      <td>https://github.com/rubinius/rubinius</td>\n",
       "      <td>{'C': 23606977, 'Ruby': 10652649, 'C++': 32619...</td>\n",
       "      <td>False</td>\n",
       "      <td>8.0</td>\n",
       "      <td>604.0</td>\n",
       "      <td>3027.0</td>\n",
       "      <td>199.0</td>\n",
       "    </tr>\n",
       "    <tr>\n",
       "      <th>1380</th>\n",
       "      <td>mojombo/god</td>\n",
       "      <td>https://github.com/mojombo/god</td>\n",
       "      <td>{'Ruby': 283939, 'C': 9261, 'CSS': 6486, 'Java...</td>\n",
       "      <td>False</td>\n",
       "      <td>12.0</td>\n",
       "      <td>508.0</td>\n",
       "      <td>2193.0</td>\n",
       "      <td>32.0</td>\n",
       "    </tr>\n",
       "    <tr>\n",
       "      <th>2164</th>\n",
       "      <td>vanpelt/jsawesome</td>\n",
       "      <td>https://github.com/vanpelt/jsawesome</td>\n",
       "      <td>{'JavaScript': 126588, 'Ruby': 9677}</td>\n",
       "      <td>False</td>\n",
       "      <td>1.0</td>\n",
       "      <td>7.0</td>\n",
       "      <td>68.0</td>\n",
       "      <td>0.0</td>\n",
       "    </tr>\n",
       "  </tbody>\n",
       "</table>\n",
       "</div>"
      ],
      "text/plain": [
       "              full_name                              html_url  \\\n",
       "0          mojombo/grit       https://github.com/mojombo/grit   \n",
       "1      wycats/merb-core   https://github.com/wycats/merb-core   \n",
       "651   rubinius/rubinius  https://github.com/rubinius/rubinius   \n",
       "1380        mojombo/god        https://github.com/mojombo/god   \n",
       "2164  vanpelt/jsawesome  https://github.com/vanpelt/jsawesome   \n",
       "\n",
       "                                              languages   fork  branchs  \\\n",
       "0                                      {'Ruby': 219981}  False      3.0   \n",
       "1                  {'Ruby': 948883, 'JavaScript': 8925}  False     14.0   \n",
       "651   {'C': 23606977, 'Ruby': 10652649, 'C++': 32619...  False      8.0   \n",
       "1380  {'Ruby': 283939, 'C': 9261, 'CSS': 6486, 'Java...  False     12.0   \n",
       "2164               {'JavaScript': 126588, 'Ruby': 9677}  False      1.0   \n",
       "\n",
       "      forks   stars   tags  \n",
       "0     542.0  1955.0   15.0  \n",
       "1      61.0   435.0    9.0  \n",
       "651   604.0  3027.0  199.0  \n",
       "1380  508.0  2193.0   32.0  \n",
       "2164    7.0    68.0    0.0  "
      ]
     },
     "execution_count": 21,
     "metadata": {},
     "output_type": "execute_result"
    }
   ],
   "source": [
    "_df.head()"
   ]
  },
  {
   "cell_type": "code",
   "execution_count": 23,
   "metadata": {},
   "outputs": [],
   "source": [
    "_df.reset_index(inplace=True)"
   ]
  },
  {
   "cell_type": "code",
   "execution_count": 24,
   "metadata": {},
   "outputs": [
    {
     "data": {
      "text/html": [
       "<div>\n",
       "<style scoped>\n",
       "    .dataframe tbody tr th:only-of-type {\n",
       "        vertical-align: middle;\n",
       "    }\n",
       "\n",
       "    .dataframe tbody tr th {\n",
       "        vertical-align: top;\n",
       "    }\n",
       "\n",
       "    .dataframe thead th {\n",
       "        text-align: right;\n",
       "    }\n",
       "</style>\n",
       "<table border=\"1\" class=\"dataframe\">\n",
       "  <thead>\n",
       "    <tr style=\"text-align: right;\">\n",
       "      <th></th>\n",
       "      <th>index</th>\n",
       "      <th>full_name</th>\n",
       "      <th>html_url</th>\n",
       "      <th>languages</th>\n",
       "      <th>fork</th>\n",
       "      <th>branchs</th>\n",
       "      <th>forks</th>\n",
       "      <th>stars</th>\n",
       "      <th>tags</th>\n",
       "    </tr>\n",
       "  </thead>\n",
       "  <tbody>\n",
       "    <tr>\n",
       "      <th>0</th>\n",
       "      <td>0</td>\n",
       "      <td>mojombo/grit</td>\n",
       "      <td>https://github.com/mojombo/grit</td>\n",
       "      <td>{'Ruby': 219981}</td>\n",
       "      <td>False</td>\n",
       "      <td>3.0</td>\n",
       "      <td>542.0</td>\n",
       "      <td>1955.0</td>\n",
       "      <td>15.0</td>\n",
       "    </tr>\n",
       "    <tr>\n",
       "      <th>1</th>\n",
       "      <td>1</td>\n",
       "      <td>wycats/merb-core</td>\n",
       "      <td>https://github.com/wycats/merb-core</td>\n",
       "      <td>{'Ruby': 948883, 'JavaScript': 8925}</td>\n",
       "      <td>False</td>\n",
       "      <td>14.0</td>\n",
       "      <td>61.0</td>\n",
       "      <td>435.0</td>\n",
       "      <td>9.0</td>\n",
       "    </tr>\n",
       "    <tr>\n",
       "      <th>2</th>\n",
       "      <td>651</td>\n",
       "      <td>rubinius/rubinius</td>\n",
       "      <td>https://github.com/rubinius/rubinius</td>\n",
       "      <td>{'C': 23606977, 'Ruby': 10652649, 'C++': 32619...</td>\n",
       "      <td>False</td>\n",
       "      <td>8.0</td>\n",
       "      <td>604.0</td>\n",
       "      <td>3027.0</td>\n",
       "      <td>199.0</td>\n",
       "    </tr>\n",
       "    <tr>\n",
       "      <th>3</th>\n",
       "      <td>1380</td>\n",
       "      <td>mojombo/god</td>\n",
       "      <td>https://github.com/mojombo/god</td>\n",
       "      <td>{'Ruby': 283939, 'C': 9261, 'CSS': 6486, 'Java...</td>\n",
       "      <td>False</td>\n",
       "      <td>12.0</td>\n",
       "      <td>508.0</td>\n",
       "      <td>2193.0</td>\n",
       "      <td>32.0</td>\n",
       "    </tr>\n",
       "    <tr>\n",
       "      <th>4</th>\n",
       "      <td>2164</td>\n",
       "      <td>vanpelt/jsawesome</td>\n",
       "      <td>https://github.com/vanpelt/jsawesome</td>\n",
       "      <td>{'JavaScript': 126588, 'Ruby': 9677}</td>\n",
       "      <td>False</td>\n",
       "      <td>1.0</td>\n",
       "      <td>7.0</td>\n",
       "      <td>68.0</td>\n",
       "      <td>0.0</td>\n",
       "    </tr>\n",
       "  </tbody>\n",
       "</table>\n",
       "</div>"
      ],
      "text/plain": [
       "   index          full_name                              html_url  \\\n",
       "0      0       mojombo/grit       https://github.com/mojombo/grit   \n",
       "1      1   wycats/merb-core   https://github.com/wycats/merb-core   \n",
       "2    651  rubinius/rubinius  https://github.com/rubinius/rubinius   \n",
       "3   1380        mojombo/god        https://github.com/mojombo/god   \n",
       "4   2164  vanpelt/jsawesome  https://github.com/vanpelt/jsawesome   \n",
       "\n",
       "                                           languages   fork  branchs  forks  \\\n",
       "0                                   {'Ruby': 219981}  False      3.0  542.0   \n",
       "1               {'Ruby': 948883, 'JavaScript': 8925}  False     14.0   61.0   \n",
       "2  {'C': 23606977, 'Ruby': 10652649, 'C++': 32619...  False      8.0  604.0   \n",
       "3  {'Ruby': 283939, 'C': 9261, 'CSS': 6486, 'Java...  False     12.0  508.0   \n",
       "4               {'JavaScript': 126588, 'Ruby': 9677}  False      1.0    7.0   \n",
       "\n",
       "    stars   tags  \n",
       "0  1955.0   15.0  \n",
       "1   435.0    9.0  \n",
       "2  3027.0  199.0  \n",
       "3  2193.0   32.0  \n",
       "4    68.0    0.0  "
      ]
     },
     "execution_count": 24,
     "metadata": {},
     "output_type": "execute_result"
    }
   ],
   "source": [
    "_df.head()"
   ]
  },
  {
   "cell_type": "code",
   "execution_count": 26,
   "metadata": {},
   "outputs": [],
   "source": [
    "_df.drop('index',inplace=True,axis=1)"
   ]
  },
  {
   "cell_type": "code",
   "execution_count": 27,
   "metadata": {},
   "outputs": [
    {
     "data": {
      "text/html": [
       "<div>\n",
       "<style scoped>\n",
       "    .dataframe tbody tr th:only-of-type {\n",
       "        vertical-align: middle;\n",
       "    }\n",
       "\n",
       "    .dataframe tbody tr th {\n",
       "        vertical-align: top;\n",
       "    }\n",
       "\n",
       "    .dataframe thead th {\n",
       "        text-align: right;\n",
       "    }\n",
       "</style>\n",
       "<table border=\"1\" class=\"dataframe\">\n",
       "  <thead>\n",
       "    <tr style=\"text-align: right;\">\n",
       "      <th></th>\n",
       "      <th>full_name</th>\n",
       "      <th>html_url</th>\n",
       "      <th>languages</th>\n",
       "      <th>fork</th>\n",
       "      <th>branchs</th>\n",
       "      <th>forks</th>\n",
       "      <th>stars</th>\n",
       "      <th>tags</th>\n",
       "    </tr>\n",
       "  </thead>\n",
       "  <tbody>\n",
       "    <tr>\n",
       "      <th>0</th>\n",
       "      <td>mojombo/grit</td>\n",
       "      <td>https://github.com/mojombo/grit</td>\n",
       "      <td>{'Ruby': 219981}</td>\n",
       "      <td>False</td>\n",
       "      <td>3.0</td>\n",
       "      <td>542.0</td>\n",
       "      <td>1955.0</td>\n",
       "      <td>15.0</td>\n",
       "    </tr>\n",
       "    <tr>\n",
       "      <th>1</th>\n",
       "      <td>wycats/merb-core</td>\n",
       "      <td>https://github.com/wycats/merb-core</td>\n",
       "      <td>{'Ruby': 948883, 'JavaScript': 8925}</td>\n",
       "      <td>False</td>\n",
       "      <td>14.0</td>\n",
       "      <td>61.0</td>\n",
       "      <td>435.0</td>\n",
       "      <td>9.0</td>\n",
       "    </tr>\n",
       "    <tr>\n",
       "      <th>2</th>\n",
       "      <td>rubinius/rubinius</td>\n",
       "      <td>https://github.com/rubinius/rubinius</td>\n",
       "      <td>{'C': 23606977, 'Ruby': 10652649, 'C++': 32619...</td>\n",
       "      <td>False</td>\n",
       "      <td>8.0</td>\n",
       "      <td>604.0</td>\n",
       "      <td>3027.0</td>\n",
       "      <td>199.0</td>\n",
       "    </tr>\n",
       "    <tr>\n",
       "      <th>3</th>\n",
       "      <td>mojombo/god</td>\n",
       "      <td>https://github.com/mojombo/god</td>\n",
       "      <td>{'Ruby': 283939, 'C': 9261, 'CSS': 6486, 'Java...</td>\n",
       "      <td>False</td>\n",
       "      <td>12.0</td>\n",
       "      <td>508.0</td>\n",
       "      <td>2193.0</td>\n",
       "      <td>32.0</td>\n",
       "    </tr>\n",
       "    <tr>\n",
       "      <th>4</th>\n",
       "      <td>vanpelt/jsawesome</td>\n",
       "      <td>https://github.com/vanpelt/jsawesome</td>\n",
       "      <td>{'JavaScript': 126588, 'Ruby': 9677}</td>\n",
       "      <td>False</td>\n",
       "      <td>1.0</td>\n",
       "      <td>7.0</td>\n",
       "      <td>68.0</td>\n",
       "      <td>0.0</td>\n",
       "    </tr>\n",
       "  </tbody>\n",
       "</table>\n",
       "</div>"
      ],
      "text/plain": [
       "           full_name                              html_url  \\\n",
       "0       mojombo/grit       https://github.com/mojombo/grit   \n",
       "1   wycats/merb-core   https://github.com/wycats/merb-core   \n",
       "2  rubinius/rubinius  https://github.com/rubinius/rubinius   \n",
       "3        mojombo/god        https://github.com/mojombo/god   \n",
       "4  vanpelt/jsawesome  https://github.com/vanpelt/jsawesome   \n",
       "\n",
       "                                           languages   fork  branchs  forks  \\\n",
       "0                                   {'Ruby': 219981}  False      3.0  542.0   \n",
       "1               {'Ruby': 948883, 'JavaScript': 8925}  False     14.0   61.0   \n",
       "2  {'C': 23606977, 'Ruby': 10652649, 'C++': 32619...  False      8.0  604.0   \n",
       "3  {'Ruby': 283939, 'C': 9261, 'CSS': 6486, 'Java...  False     12.0  508.0   \n",
       "4               {'JavaScript': 126588, 'Ruby': 9677}  False      1.0    7.0   \n",
       "\n",
       "    stars   tags  \n",
       "0  1955.0   15.0  \n",
       "1   435.0    9.0  \n",
       "2  3027.0  199.0  \n",
       "3  2193.0   32.0  \n",
       "4    68.0    0.0  "
      ]
     },
     "execution_count": 27,
     "metadata": {},
     "output_type": "execute_result"
    }
   ],
   "source": [
    "_df.head()"
   ]
  },
  {
   "cell_type": "code",
   "execution_count": 29,
   "metadata": {},
   "outputs": [],
   "source": [
    "fork = _df['fork'].value_counts()"
   ]
  },
  {
   "cell_type": "code",
   "execution_count": 34,
   "metadata": {},
   "outputs": [
    {
     "data": {
      "text/plain": [
       "array([97, 10])"
      ]
     },
     "execution_count": 34,
     "metadata": {},
     "output_type": "execute_result"
    }
   ],
   "source": [
    "fork.values"
   ]
  },
  {
   "cell_type": "code",
   "execution_count": 38,
   "metadata": {},
   "outputs": [
    {
     "data": {
      "image/png": "[encoded data removed]",
      "text/plain": [
       "<Figure size 640x480 with 1 Axes>"
      ]
     },
     "metadata": {},
     "output_type": "display_data"
    }
   ],
   "source": [
    "plt.pie(fork.values,labels=fork.index)\n",
    "plt.title('Fork Ratio')\n",
    "plt.show()"
   ]
  },
  {
   "cell_type": "code",
   "execution_count": 78,
   "metadata": {},
   "outputs": [],
   "source": [
    "_df['languages'] = _df['languages'].map(lambda x: x.replace('\\'','\"').replace('\\t','').replace('\\n','').replace(',}','}').replace(',]',']'))"
   ]
  },
  {
   "cell_type": "code",
   "execution_count": 79,
   "metadata": {},
   "outputs": [
    {
     "data": {
      "text/plain": [
       "0                                       {\"Ruby\": 219981}\n",
       "1                   {\"Ruby\": 948883, \"JavaScript\": 8925}\n",
       "2      {\"C\": 23606977, \"Ruby\": 10652649, \"C++\": 32619...\n",
       "3      {\"Ruby\": 283939, \"C\": 9261, \"CSS\": 6486, \"Java...\n",
       "4                   {\"JavaScript\": 126588, \"Ruby\": 9677}\n",
       "                             ...                        \n",
       "102                                       {\"Ruby\": 4062}\n",
       "103            {\"Ruby\": 88388, \"HTML\": 8678, \"CSS\": 927}\n",
       "104           {\"Ruby\": 35135, \"HTML\": 4167, \"CSS\": 1014}\n",
       "105          {\"CSS\": 39650, \"Ruby\": 36125, \"HTML\": 1708}\n",
       "106                                    {\"Python\": 12368}\n",
       "Name: languages, Length: 107, dtype: object"
      ]
     },
     "execution_count": 79,
     "metadata": {},
     "output_type": "execute_result"
    }
   ],
   "source": [
    "_df['languages']"
   ]
  },
  {
   "cell_type": "code",
   "execution_count": 80,
   "metadata": {},
   "outputs": [],
   "source": [
    "import ast\n",
    "languages = dict()\n",
    "for i in map(ast.literal_eval,iter(_df['languages'])):\n",
    "    for k,v in i.items():\n",
    "        l = languages.get(k)\n",
    "        if l:\n",
    "            val = l+v\n",
    "        else: val = v\n",
    "        languages.update({k:val})\n"
   ]
  },
  {
   "cell_type": "code",
   "execution_count": 81,
   "metadata": {},
   "outputs": [
    {
     "data": {
      "text/plain": [
       "{'Ruby': 30820590,\n",
       " 'JavaScript': 2250692,\n",
       " 'C': 23703084,\n",
       " 'C++': 3261903,\n",
       " 'Shell': 1336687,\n",
       " 'Makefile': 905013,\n",
       " 'Assembly': 787717,\n",
       " 'Objective-C': 643227,\n",
       " 'TeX': 393275,\n",
       " 'Roff': 224519,\n",
       " 'M4': 143616,\n",
       " 'Ada': 89080,\n",
       " 'Pascal': 70297,\n",
       " 'C#': 55626,\n",
       " 'HTML': 116977,\n",
       " 'DIGITAL Command Language': 27303,\n",
       " 'Perl': 21024,\n",
       " 'CMake': 17089,\n",
       " 'DTrace': 7173,\n",
       " 'Python': 168453,\n",
       " 'CLIPS': 5291,\n",
       " 'Batchfile': 4779,\n",
       " 'SAS': 1847,\n",
       " 'Module Management System': 1545,\n",
       " 'PHP': 1550,\n",
       " 'GDB': 383,\n",
       " 'VBScript': 294,\n",
       " 'CSS': 184498,\n",
       " 'ActionScript': 4239,\n",
       " 'Ragel': 5790,\n",
       " 'CoffeeScript': 13,\n",
       " 'Erlang': 1612549,\n",
       " 'Emacs Lisp': 16124,\n",
       " 'Java': 7170,\n",
       " 'Groff': 2026,\n",
       " 'Arc': 203354,\n",
       " 'Scheme': 79849,\n",
       " 'Bison': 965,\n",
       " 'Io': 16836}"
      ]
     },
     "execution_count": 81,
     "metadata": {},
     "output_type": "execute_result"
    }
   ],
   "source": [
    "languages"
   ]
  },
  {
   "cell_type": "code",
   "execution_count": 87,
   "metadata": {},
   "outputs": [],
   "source": [
    "import heapq\n",
    "top_languages = heapq.nlargest(5, languages, key=languages.get)\n",
    "top_languages.reverse()\n"
   ]
  },
  {
   "cell_type": "code",
   "execution_count": 88,
   "metadata": {},
   "outputs": [
    {
     "data": {
      "image/png": "[encoded data removed]",
      "text/plain": [
       "<Figure size 640x480 with 1 Axes>"
      ]
     },
     "metadata": {},
     "output_type": "display_data"
    }
   ],
   "source": [
    "plt.barh(top_languages,[languages.get(i) for i in top_languages])\n",
    "plt.show()"
   ]
  },
  {
   "cell_type": "code",
   "execution_count": 103,
   "metadata": {},
   "outputs": [],
   "source": [
    "most_fork = _df.sort_values(by=['forks'],ascending=False)"
   ]
  },
  {
   "cell_type": "code",
   "execution_count": 104,
   "metadata": {},
   "outputs": [],
   "source": [
    "forks = most_fork[['full_name','forks']].head(10)"
   ]
  },
  {
   "cell_type": "code",
   "execution_count": 105,
   "metadata": {},
   "outputs": [
    {
     "data": {
      "text/html": [
       "<div>\n",
       "<style scoped>\n",
       "    .dataframe tbody tr th:only-of-type {\n",
       "        vertical-align: middle;\n",
       "    }\n",
       "\n",
       "    .dataframe tbody tr th {\n",
       "        vertical-align: top;\n",
       "    }\n",
       "\n",
       "    .dataframe thead th {\n",
       "        text-align: right;\n",
       "    }\n",
       "</style>\n",
       "<table border=\"1\" class=\"dataframe\">\n",
       "  <thead>\n",
       "    <tr style=\"text-align: right;\">\n",
       "      <th></th>\n",
       "      <th>full_name</th>\n",
       "      <th>forks</th>\n",
       "    </tr>\n",
       "  </thead>\n",
       "  <tbody>\n",
       "    <tr>\n",
       "      <th>88</th>\n",
       "      <td>josh/rails</td>\n",
       "      <td>20714.0</td>\n",
       "    </tr>\n",
       "    <tr>\n",
       "      <th>26</th>\n",
       "      <td>bmizerany/sinatra</td>\n",
       "      <td>2072.0</td>\n",
       "    </tr>\n",
       "    <tr>\n",
       "      <th>2</th>\n",
       "      <td>rubinius/rubinius</td>\n",
       "      <td>604.0</td>\n",
       "    </tr>\n",
       "    <tr>\n",
       "      <th>94</th>\n",
       "      <td>collectiveidea/audited</td>\n",
       "      <td>597.0</td>\n",
       "    </tr>\n",
       "    <tr>\n",
       "      <th>0</th>\n",
       "      <td>mojombo/grit</td>\n",
       "      <td>542.0</td>\n",
       "    </tr>\n",
       "    <tr>\n",
       "      <th>34</th>\n",
       "      <td>ruby-git/ruby-git</td>\n",
       "      <td>510.0</td>\n",
       "    </tr>\n",
       "    <tr>\n",
       "      <th>79</th>\n",
       "      <td>kevinclark/god</td>\n",
       "      <td>508.0</td>\n",
       "    </tr>\n",
       "    <tr>\n",
       "      <th>3</th>\n",
       "      <td>mojombo/god</td>\n",
       "      <td>508.0</td>\n",
       "    </tr>\n",
       "    <tr>\n",
       "      <th>41</th>\n",
       "      <td>mojombo/chronic</td>\n",
       "      <td>466.0</td>\n",
       "    </tr>\n",
       "    <tr>\n",
       "      <th>81</th>\n",
       "      <td>brosner/django-mptt</td>\n",
       "      <td>451.0</td>\n",
       "    </tr>\n",
       "  </tbody>\n",
       "</table>\n",
       "</div>"
      ],
      "text/plain": [
       "                 full_name    forks\n",
       "88              josh/rails  20714.0\n",
       "26       bmizerany/sinatra   2072.0\n",
       "2        rubinius/rubinius    604.0\n",
       "94  collectiveidea/audited    597.0\n",
       "0             mojombo/grit    542.0\n",
       "34       ruby-git/ruby-git    510.0\n",
       "79          kevinclark/god    508.0\n",
       "3              mojombo/god    508.0\n",
       "41         mojombo/chronic    466.0\n",
       "81     brosner/django-mptt    451.0"
      ]
     },
     "execution_count": 105,
     "metadata": {},
     "output_type": "execute_result"
    }
   ],
   "source": [
    "forks"
   ]
  },
  {
   "cell_type": "code",
   "execution_count": 107,
   "metadata": {},
   "outputs": [
    {
     "data": {
      "image/png": "[encoded data removed]",
      "text/plain": [
       "<Figure size 640x480 with 1 Axes>"
      ]
     },
     "metadata": {},
     "output_type": "display_data"
    }
   ],
   "source": [
    "plt.barh(forks['full_name'],forks['forks'])\n",
    "plt.show()"
   ]
  },
  {
   "cell_type": "code",
   "execution_count": 109,
   "metadata": {},
   "outputs": [],
   "source": [
    "most_stars = _df.sort_values(by='stars',ascending=False)"
   ]
  },
  {
   "cell_type": "code",
   "execution_count": 115,
   "metadata": {},
   "outputs": [],
   "source": [
    "stars = most_stars[['full_name','stars']].head(10)"
   ]
  },
  {
   "cell_type": "code",
   "execution_count": 116,
   "metadata": {},
   "outputs": [
    {
     "data": {
      "image/png": "[encoded data removed]",
      "text/plain": [
       "<Figure size 640x480 with 1 Axes>"
      ]
     },
     "metadata": {},
     "output_type": "display_data"
    }
   ],
   "source": [
    "plt.barh(stars['full_name'],stars['stars'])\n",
    "plt.show()"
   ]
  },
  {
   "cell_type": "code",
   "execution_count": null,
   "metadata": {},
   "outputs": [],
   "source": []
  }
 ],
 "metadata": {
  "kernelspec": {
   "display_name": "Python 3.10.6 ('ds')",
   "language": "python",
   "name": "python3"
  },
  "language_info": {
   "codemirror_mode": {
    "name": "ipython",
    "version": 3
   },
   "file_extension": ".py",
   "mimetype": "text/x-python",
   "name": "python",
   "nbconvert_exporter": "python",
   "pygments_lexer": "ipython3",
   "version": "3.10.6"
  },
  "orig_nbformat": 4,
  "vscode": {
   "interpreter": {
    "hash": "7a243aa12b2cc58632f014d61b5842e72ccc3e4a066f50e425b2487da1abc1f3"
   }
  }
 },
 "nbformat": 4,
 "nbformat_minor": 2
}
